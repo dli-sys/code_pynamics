{
 "cells": [
  {
   "cell_type": "markdown",
   "metadata": {},
   "source": [
    "---\n",
    "title: Triple Pendulum Example\n",
    "type: submodule\n",
    "---"
   ]
  },
  {
   "cell_type": "code",
   "execution_count": 1,
   "metadata": {},
   "outputs": [],
   "source": [
    "%matplotlib inline"
   ]
  },
  {
   "cell_type": "markdown",
   "metadata": {},
   "source": [
    "Try running with this variable set to true and to false and see the difference in the resulting equations of motion"
   ]
  },
  {
   "cell_type": "code",
   "execution_count": 2,
   "metadata": {},
   "outputs": [],
   "source": [
    "use_constraints = False"
   ]
  },
  {
   "cell_type": "markdown",
   "metadata": {},
   "source": [
    "Import all the necessary modules"
   ]
  },
  {
   "cell_type": "code",
   "execution_count": 3,
   "metadata": {},
   "outputs": [],
   "source": [
    "# -*- coding: utf-8 -*-\n",
    "\"\"\"\n",
    "Written by Daniel M. Aukes\n",
    "Email: danaukes<at>gmail.com\n",
    "Please see LICENSE for full license.\n",
    "\"\"\"\n",
    "\n",
    "import pynamics\n",
    "from pynamics.frame import Frame\n",
    "from pynamics.variable_types import Differentiable,Constant\n",
    "from pynamics.system import System\n",
    "from pynamics.body import Body\n",
    "from pynamics.dyadic import Dyadic\n",
    "from pynamics.output import Output,PointsOutput\n",
    "from pynamics.particle import Particle\n",
    "from pynamics.constraint import AccelerationConstraint\n",
    "import pynamics.integration\n",
    "import numpy\n",
    "import sympy\n",
    "import matplotlib.pyplot as plt\n",
    "plt.ion()\n",
    "from math import pi"
   ]
  },
  {
   "cell_type": "markdown",
   "metadata": {},
   "source": [
    "The next two lines create a new system object and set that system as the global system within the module so that other variables can use and find it."
   ]
  },
  {
   "cell_type": "code",
   "execution_count": 4,
   "metadata": {},
   "outputs": [],
   "source": [
    "system = System()\n",
    "pynamics.set_system(__name__,system)"
   ]
  },
  {
   "cell_type": "markdown",
   "metadata": {},
   "source": [
    "## Parameterization\n",
    "\n",
    "### Constants\n",
    "\n",
    "Declare constants and seed them with their default value.  This can be changed at integration time but is often a nice shortcut when you don't want the value to change but you want it to be represented symbolically in calculations"
   ]
  },
  {
   "cell_type": "code",
   "execution_count": 5,
   "metadata": {},
   "outputs": [],
   "source": [
    "lA = Constant(1,'lA',system)\n",
    "lB = Constant(1,'lB',system)\n",
    "lC = Constant(1,'lC',system)\n",
    "\n",
    "mA = Constant(1,'mA',system)\n",
    "mB = Constant(1,'mB',system)\n",
    "mC = Constant(1,'mC',system)\n",
    "\n",
    "g = Constant(9.81,'g',system)\n",
    "b = Constant(1e1,'b',system)\n",
    "k = Constant(1e1,'k',system)\n",
    "\n",
    "preload1 = Constant(0*pi/180,'preload1',system)\n",
    "preload2 = Constant(0*pi/180,'preload2',system)\n",
    "preload3 = Constant(0*pi/180,'preload3',system)\n",
    "\n",
    "Ixx_A = Constant(1,'Ixx_A',system)\n",
    "Iyy_A = Constant(1,'Iyy_A',system)\n",
    "Izz_A = Constant(1,'Izz_A',system)\n",
    "Ixx_B = Constant(1,'Ixx_B',system)\n",
    "Iyy_B = Constant(1,'Iyy_B',system)\n",
    "Izz_B = Constant(1,'Izz_B',system)\n",
    "Ixx_C = Constant(1,'Ixx_C',system)\n",
    "Iyy_C = Constant(1,'Iyy_C',system)\n",
    "Izz_C = Constant(1,'Izz_C',system)\n",
    "\n",
    "torque = Constant(0,'torque',system)\n",
    "freq = Constant(3e0,'freq',system)"
   ]
  },
  {
   "cell_type": "markdown",
   "metadata": {},
   "source": [
    "### Differentiable State Variables\n",
    "\n",
    "Define your differentiable state variables that you will use to model the state of the system.  In this case $qA$, $qB$, and $qC$ are the rotation angles of a three-link mechanism"
   ]
  },
  {
   "cell_type": "code",
   "execution_count": 6,
   "metadata": {},
   "outputs": [],
   "source": [
    "qA,qA_d,qA_dd = Differentiable('qA',system)\n",
    "qB,qB_d,qB_dd = Differentiable('qB',system)\n",
    "qC,qC_d,qC_dd = Differentiable('qC',system)"
   ]
  },
  {
   "cell_type": "markdown",
   "metadata": {},
   "source": [
    "### Initial Values\n",
    "Define a set of initial values for the position and velocity of each of your state variables.  It is necessary to define a known.  This code create a dictionary of initial values."
   ]
  },
  {
   "cell_type": "code",
   "execution_count": 7,
   "metadata": {},
   "outputs": [],
   "source": [
    "initialvalues = {}\n",
    "initialvalues[qA]=0*pi/180\n",
    "initialvalues[qA_d]=0*pi/180\n",
    "initialvalues[qB]=0*pi/180\n",
    "initialvalues[qB_d]=0*pi/180\n",
    "initialvalues[qC]=0*pi/180\n",
    "initialvalues[qC_d]=0*pi/180"
   ]
  },
  {
   "cell_type": "markdown",
   "metadata": {},
   "source": [
    "These two lines of code order the initial values in a list in such a way that the integrator can use it in the same order that it expects the variables to be supplied"
   ]
  },
  {
   "cell_type": "code",
   "execution_count": 8,
   "metadata": {},
   "outputs": [],
   "source": [
    "statevariables = system.get_state_variables()\n",
    "ini = [initialvalues[item] for item in statevariables]"
   ]
  },
  {
   "cell_type": "markdown",
   "metadata": {},
   "source": [
    "## Kinematics\n",
    "\n",
    "### Frames\n",
    "Define the reference frames of the system"
   ]
  },
  {
   "cell_type": "code",
   "execution_count": 9,
   "metadata": {},
   "outputs": [],
   "source": [
    "N = Frame('N')\n",
    "A = Frame('A')\n",
    "B = Frame('B')\n",
    "C = Frame('C')"
   ]
  },
  {
   "cell_type": "markdown",
   "metadata": {},
   "source": [
    "### Newtonian Frame\n",
    "\n",
    "It is important to define the Newtonian reference frame as a reference frame that is not accelerating, otherwise the dynamic equations will not be correct"
   ]
  },
  {
   "cell_type": "code",
   "execution_count": 10,
   "metadata": {},
   "outputs": [],
   "source": [
    "system.set_newtonian(N)"
   ]
  },
  {
   "cell_type": "markdown",
   "metadata": {},
   "source": [
    "Rotate each successive frame by amount q<new> from the last.  This approach can produce more complex equations but is representationally simple (Minimal Representation)"
   ]
  },
  {
   "cell_type": "code",
   "execution_count": 11,
   "metadata": {},
   "outputs": [],
   "source": [
    "A.rotate_fixed_axis_directed(N,[0,0,1],qA,system)\n",
    "B.rotate_fixed_axis_directed(A,[0,0,1],qB,system)\n",
    "C.rotate_fixed_axis_directed(B,[0,0,1],qC,system)"
   ]
  },
  {
   "cell_type": "markdown",
   "metadata": {},
   "source": [
    "### Vectors\n",
    "Define the vectors that describe the kinematics of a series of connected lengths\n",
    "\n",
    "* pNA - This is a vector with position at the origin.\n",
    "* pAB - This vector is length $l_A$ away from the origin along the A.x unit vector\n",
    "* pBC - This vector is length $l_B$ away from the pAB along the B.x unit vector \n",
    "* pCtip - This vector is length $l_C$ away from the pBC along the C.x unit vector "
   ]
  },
  {
   "cell_type": "markdown",
   "metadata": {},
   "source": [
    "Define my rigid body kinematics\n",
    "\n",
    "![](/figures/kinematics/fourbar2.png)\n",
    "![](../../../../static/figures/kinematics/fourbar2.png)"
   ]
  },
  {
   "cell_type": "code",
   "execution_count": 12,
   "metadata": {},
   "outputs": [],
   "source": [
    "pNA=0*N.x\n",
    "pAB=pNA+lA*A.x\n",
    "pBC = pAB + lB*B.x\n",
    "pCtip = pBC + lC*C.x"
   ]
  },
  {
   "cell_type": "markdown",
   "metadata": {},
   "source": [
    "## Centers of Mass\n",
    "\n",
    "It is important to define the centers of mass of each link.  In this case, the center of mass of link A, B, and C is halfway along the length of each"
   ]
  },
  {
   "cell_type": "code",
   "execution_count": 13,
   "metadata": {},
   "outputs": [],
   "source": [
    "pAcm=pNA+lA/2*A.x\n",
    "pBcm=pAB+lB/2*B.x\n",
    "pCcm=pBC+lC/2*C.x"
   ]
  },
  {
   "cell_type": "markdown",
   "metadata": {},
   "source": [
    "## Calculating Velocity\n",
    "\n",
    "The angular velocity between frames, and the time derivatives of vectors are extremely useful in calculating the equations of motion and for determining many of the forces that need to be applied to your system (damping, drag, etc).  Thus, it is useful, once kinematics have been defined, to take or find the derivatives of some of those vectors for calculating  linear or angular velocity vectors\n",
    "\n",
    "### Angular Velocity\n",
    "The following three lines of code computes and returns the angular velocity between frames N and A (${}^N\\omega^A$), A and B (${}^A\\omega^B$), and B and C (${}^B\\omega^C$).  In other cases, if the derivative expression is complex or long,  you can supply pynamics with a given angular velocity between frames to speed up computation time."
   ]
  },
  {
   "cell_type": "code",
   "execution_count": 14,
   "metadata": {},
   "outputs": [],
   "source": [
    "wNA = N.getw_(A)\n",
    "wAB = A.getw_(B)\n",
    "wBC = B.getw_(C)"
   ]
  },
  {
   "cell_type": "markdown",
   "metadata": {},
   "source": [
    "### Vector derivatives\n",
    "The time derivatives of vectors may also be "
   ]
  },
  {
   "cell_type": "markdown",
   "metadata": {},
   "source": [
    "vCtip = pCtip.time_derivative(N,system)"
   ]
  },
  {
   "cell_type": "markdown",
   "metadata": {},
   "source": [
    "### Define Inertias and Bodies\n",
    "The next several lines compute the inertia dyadics of each body and define a rigid body on each frame.  In the case of frame C, we represent the mass as a particle located at point pCcm.  "
   ]
  },
  {
   "cell_type": "code",
   "execution_count": 15,
   "metadata": {},
   "outputs": [],
   "source": [
    "IA = Dyadic.build(A,Ixx_A,Iyy_A,Izz_A)\n",
    "IB = Dyadic.build(B,Ixx_B,Iyy_B,Izz_B)\n",
    "IC = Dyadic.build(C,Ixx_C,Iyy_C,Izz_C)\n",
    "\n",
    "BodyA = Body('BodyA',A,pAcm,mA,IA,system)\n",
    "BodyB = Body('BodyB',B,pBcm,mB,IB,system)\n",
    "#BodyC = Body('BodyC',C,pCcm,mC,IC,system)\n",
    "BodyC = Particle(pCcm,mC,'ParticleC',system)"
   ]
  },
  {
   "cell_type": "markdown",
   "metadata": {},
   "source": [
    "## Forces and Torques\n",
    "Forces and torques are added to the system with the generic ```addforce``` method.  The first parameter supplied is a vector describing the force applied at a point or the torque applied along a given rotational axis.  The second parameter is the  vector describing the linear speed (for an applied force) or the angular velocity(for an applied torque)"
   ]
  },
  {
   "cell_type": "code",
   "execution_count": 16,
   "metadata": {},
   "outputs": [
    {
     "data": {
      "text/plain": [
       "<pynamics.force.Force at 0x24b9fc5b460>"
      ]
     },
     "execution_count": 16,
     "metadata": {},
     "output_type": "execute_result"
    }
   ],
   "source": [
    "system.addforce(torque*sympy.sin(freq*2*sympy.pi*system.t)*A.z,wNA)"
   ]
  },
  {
   "cell_type": "markdown",
   "metadata": {},
   "source": [
    "### Damper"
   ]
  },
  {
   "cell_type": "code",
   "execution_count": 17,
   "metadata": {},
   "outputs": [
    {
     "data": {
      "text/plain": [
       "<pynamics.force.Force at 0x24b9fe00880>"
      ]
     },
     "execution_count": 17,
     "metadata": {},
     "output_type": "execute_result"
    }
   ],
   "source": [
    "system.addforce(-b*wNA,wNA)\n",
    "system.addforce(-b*wAB,wAB)\n",
    "system.addforce(-b*wBC,wBC)"
   ]
  },
  {
   "cell_type": "markdown",
   "metadata": {},
   "source": [
    "### Spring Forces\n",
    "\n",
    "Spring forces are a special case because the energy stored in springs is conservative and should be considered when calculating the system's potential energy.  To do this, use the ```add_spring_force``` command.  In this method, the first value is the linear spring constant.  The second value is the \"stretch\" vector, indicating the amount of deflection from the neutral point of the spring.  The final parameter is, as above, the linear or angluar velocity vector (depending on whether your spring is a linear or torsional spring)\n",
    "\n",
    "In this case, the torques applied to each joint are dependent upon whether qA, qB, and qC are absolute or relative rotations, as defined above."
   ]
  },
  {
   "cell_type": "code",
   "execution_count": 18,
   "metadata": {},
   "outputs": [
    {
     "data": {
      "text/plain": [
       "(<pynamics.force.Force at 0x24b9fe068b0>,\n",
       " <pynamics.spring.Spring at 0x24b9fe067f0>)"
      ]
     },
     "execution_count": 18,
     "metadata": {},
     "output_type": "execute_result"
    }
   ],
   "source": [
    "system.add_spring_force1(k,(qA-preload1)*N.z,wNA) \n",
    "system.add_spring_force1(k,(qB-preload2)*A.z,wAB)\n",
    "system.add_spring_force1(k,(qC-preload3)*B.z,wBC)"
   ]
  },
  {
   "cell_type": "markdown",
   "metadata": {},
   "source": [
    "### Gravity\n",
    "Again, like springs, the force of gravity is conservative and should be applied to all bodies.  To globally apply the force of gravity to all particles and bodies, you can use the special ```addforcegravity``` method, by supplying the acceleration due to gravity as a vector.  This will get applied to all bodies defined in your system."
   ]
  },
  {
   "cell_type": "code",
   "execution_count": 19,
   "metadata": {},
   "outputs": [],
   "source": [
    "system.addforcegravity(-g*N.y)"
   ]
  },
  {
   "cell_type": "markdown",
   "metadata": {},
   "source": [
    "## Constraints\n",
    "Constraints may be defined that prevent the motion of certain elements.  Try turning on the constraints flag at the top of the script to see what happens."
   ]
  },
  {
   "cell_type": "code",
   "execution_count": 20,
   "metadata": {},
   "outputs": [],
   "source": [
    "if use_constraints:\n",
    "    eq = []\n",
    "    eq.append(pCtip)\n",
    "    eq_d=[item.time_derivative() for item in eq]\n",
    "    eq_dd=[item.time_derivative() for item in eq_d]\n",
    "    eq_dd_scalar = []\n",
    "    eq_dd_scalar.append(eq_dd[0].dot(N.y))\n",
    "    constraint = AccelerationConstraint(eq_dd_scalar)\n",
    "    system.add_constraint(constraint)"
   ]
  },
  {
   "cell_type": "markdown",
   "metadata": {},
   "source": [
    "## F=ma\n",
    "This is where the symbolic expressions for F and ma are calculated.  This must be done after all parts of the system have been defined.  The ```getdynamics``` function uses Kane's method to derive the equations of motion."
   ]
  },
  {
   "cell_type": "code",
   "execution_count": 21,
   "metadata": {},
   "outputs": [
    {
     "name": "stderr",
     "output_type": "stream",
     "text": [
      "2021-07-21 13:37:38,895 - pynamics.system - INFO - getting dynamic equations\n"
     ]
    }
   ],
   "source": [
    "f,ma = system.getdynamics()"
   ]
  },
  {
   "cell_type": "code",
   "execution_count": 22,
   "metadata": {},
   "outputs": [
    {
     "data": {
      "text/plain": [
       "⎡          g⋅lA⋅mA⋅cos(qA)                                       g⋅lB⋅mB⋅sin(q\n",
       "⎢-b⋅qA_d - ─────────────── - g⋅lA⋅mB⋅cos(qA) - g⋅lA⋅mC⋅cos(qA) + ─────────────\n",
       "⎣                 2                                                         2 \n",
       "\n",
       "A)⋅sin(qB)   g⋅lB⋅mB⋅cos(qA)⋅cos(qB)                                          \n",
       "────────── - ─────────────────────── + g⋅lB⋅mC⋅sin(qA)⋅sin(qB) - g⋅lB⋅mC⋅cos(q\n",
       "                        2                                                     \n",
       "\n",
       "             g⋅lC⋅mC⋅(-sin(qB)⋅sin(qC) + cos(qB)⋅cos(qC))⋅cos(qA)   g⋅lC⋅mC⋅(-\n",
       "A)⋅cos(qB) - ──────────────────────────────────────────────────── - ──────────\n",
       "                                      2                                       \n",
       "\n",
       "sin(qB)⋅cos(qC) - sin(qC)⋅cos(qB))⋅sin(qA)                                    \n",
       "────────────────────────────────────────── - k⋅(-preload₁ + qA) + torque⋅sin(2\n",
       "               2                                                              \n",
       "\n",
       "                      g⋅lB⋅mB⋅sin(qA)⋅sin(qB)   g⋅lB⋅mB⋅cos(qA)⋅cos(qB)       \n",
       "⋅freq⋅π⋅t), -b⋅qB_d + ─────────────────────── - ─────────────────────── + g⋅lB\n",
       "                                 2                         2                  \n",
       "\n",
       "                                                g⋅lC⋅mC⋅(-sin(qB)⋅sin(qC) + co\n",
       "⋅mC⋅sin(qA)⋅sin(qB) - g⋅lB⋅mC⋅cos(qA)⋅cos(qB) - ──────────────────────────────\n",
       "                                                                         2    \n",
       "\n",
       "s(qB)⋅cos(qC))⋅cos(qA)   g⋅lC⋅mC⋅(-sin(qB)⋅cos(qC) - sin(qC)⋅cos(qB))⋅sin(qA) \n",
       "────────────────────── - ──────────────────────────────────────────────────── \n",
       "                                                  2                           \n",
       "\n",
       "                                g⋅lC⋅mC⋅(-sin(qB)⋅sin(qC) + cos(qB)⋅cos(qC))⋅c\n",
       "- k⋅(-preload₂ + qB), -b⋅qC_d - ──────────────────────────────────────────────\n",
       "                                                         2                    \n",
       "\n",
       "os(qA)   g⋅lC⋅mC⋅(-sin(qB)⋅cos(qC) - sin(qC)⋅cos(qB))⋅sin(qA)                 \n",
       "────── - ──────────────────────────────────────────────────── - k⋅(-preload₃ +\n",
       "                                  2                                           \n",
       "\n",
       "    ⎤\n",
       " qC)⎥\n",
       "    ⎦"
      ]
     },
     "execution_count": 22,
     "metadata": {},
     "output_type": "execute_result"
    }
   ],
   "source": [
    "f"
   ]
  },
  {
   "cell_type": "code",
   "execution_count": 23,
   "metadata": {
    "scrolled": true
   },
   "outputs": [
    {
     "data": {
      "text/plain": [
       "⎡                                                                             \n",
       "⎢                                        2                                    \n",
       "⎢                                      lA ⋅mA⋅qA_dd     2              2      \n",
       "⎢Izz_A⋅qA_dd + Izz_B⋅(qA_dd + qB_dd) + ──────────── + lA ⋅mB⋅qA_dd + lA ⋅mC⋅qA\n",
       "⎣                                           4                                 \n",
       "\n",
       "                                                                              \n",
       "                   2                                                          \n",
       "      lA⋅lB⋅mB⋅qA_d ⋅sin(qB)   lA⋅lB⋅mB⋅qA_dd⋅cos(qB)   lA⋅lB⋅mB⋅(qA_d + qB_d)\n",
       "_dd + ────────────────────── + ────────────────────── - ──────────────────────\n",
       "                2                        2                             2      \n",
       "\n",
       "                                                                              \n",
       "2                                                                             \n",
       " ⋅sin(qB)                2                                                    \n",
       "───────── + lA⋅lB⋅mC⋅qA_d ⋅sin(qB) + lA⋅lB⋅mC⋅qA_dd⋅cos(qB) - lA⋅lB⋅mC⋅(qA_d +\n",
       "                                                                              \n",
       "\n",
       "                                                                              \n",
       "                                                                              \n",
       "      2                 ⎛lB⋅qA_dd   lB⋅qB_dd⎞                                 \n",
       " qB_d) ⋅sin(qB) + lA⋅mB⋅⎜──────── + ────────⎟⋅cos(qB) + lA⋅mC⋅(lB⋅qA_dd + lB⋅q\n",
       "                        ⎝   2          2    ⎠                                 \n",
       "\n",
       "                                                                              \n",
       "                   ⎛                            2                             \n",
       "                   ⎜  lC⋅mC⋅(qA_d + qB_d + qC_d) ⋅sin(qC)      ⎛lC⋅qA_dd   lC⋅\n",
       "B_dd)⋅cos(qB) + lA⋅⎜- ─────────────────────────────────── + mC⋅⎜──────── + ───\n",
       "                   ⎝                   2                       ⎝   2          \n",
       "\n",
       "                                                                              \n",
       "                         ⎞              ⎛                            2        \n",
       "qB_dd   lC⋅qC_dd⎞        ⎟              ⎜  lC⋅mC⋅(qA_d + qB_d + qC_d) ⋅cos(qC)\n",
       "───── + ────────⎟⋅cos(qC)⎟⋅cos(qB) + lA⋅⎜- ───────────────────────────────────\n",
       "2          2    ⎠        ⎠              ⎝                   2                 \n",
       "\n",
       "                                                                              \n",
       "                                              ⎞                               \n",
       "      ⎛lC⋅qA_dd   lC⋅qB_dd   lC⋅qC_dd⎞        ⎟           lB⋅lC⋅mC⋅(qA_d + qB_\n",
       " - mC⋅⎜──────── + ──────── + ────────⎟⋅sin(qC)⎟⋅sin(qB) + ────────────────────\n",
       "      ⎝   2          2          2    ⎠        ⎠                          2    \n",
       "\n",
       "                                                             ⎛lB⋅qA_dd   lB⋅qB\n",
       "  2                                        2           lB⋅mB⋅⎜──────── + ─────\n",
       "d) ⋅sin(qC)   lB⋅lC⋅mC⋅(qA_d + qB_d + qC_d) ⋅sin(qC)         ⎝   2          2 \n",
       "─────────── - ────────────────────────────────────── + ───────────────────────\n",
       "                                2                                   2         \n",
       "\n",
       "_dd⎞                                                                          \n",
       "───⎟                                                                          \n",
       "   ⎠                                       ⎛lC⋅qA_dd   lC⋅qB_dd   lC⋅qC_dd⎞   \n",
       "──── + lB⋅mC⋅(lB⋅qA_dd + lB⋅qB_dd) + lB⋅mC⋅⎜──────── + ──────── + ────────⎟⋅co\n",
       "                                           ⎝   2          2          2    ⎠   \n",
       "\n",
       "                                                    ⎛lC⋅qA_dd   lC⋅qB_dd   lC⋅\n",
       "                                              lC⋅mC⋅⎜──────── + ──────── + ───\n",
       "        lC⋅mC⋅(lB⋅qA_dd + lB⋅qB_dd)⋅cos(qC)         ⎝   2          2          \n",
       "s(qC) + ─────────────────────────────────── + ────────────────────────────────\n",
       "                         2                                      2             \n",
       "\n",
       "qC_dd⎞                                                                        \n",
       "─────⎟      ⎛          2                              ⎞              ⎛        \n",
       "2    ⎠   lC⋅⎝lA⋅mC⋅qA_d ⋅sin(qB) + lA⋅mC⋅qA_dd⋅cos(qB)⎠⋅cos(qC)   lC⋅⎝- lA⋅mC⋅\n",
       "────── + ────────────────────────────────────────────────────── - ────────────\n",
       "                                   2                                          \n",
       "\n",
       "                                                                              \n",
       "    2                              ⎞                                          \n",
       "qA_d ⋅cos(qB) + lA⋅mC⋅qA_dd⋅sin(qB)⎠⋅sin(qC)                          lA⋅lB⋅mB\n",
       "────────────────────────────────────────────, Izz_B⋅(qA_dd + qB_dd) + ────────\n",
       "               2                                                              \n",
       "\n",
       "                                                                              \n",
       "     2                                                                        \n",
       "⋅qA_d ⋅sin(qB)   lA⋅lB⋅mB⋅qA_dd⋅cos(qB)                2                      \n",
       "────────────── + ────────────────────── + lA⋅lB⋅mC⋅qA_d ⋅sin(qB) + lA⋅lB⋅mC⋅qA\n",
       "  2                        2                                                  \n",
       "\n",
       "                                                                              \n",
       "                                    2                                        2\n",
       "              lB⋅lC⋅mC⋅(qA_d + qB_d) ⋅sin(qC)   lB⋅lC⋅mC⋅(qA_d + qB_d + qC_d) \n",
       "_dd⋅cos(qB) + ─────────────────────────────── - ──────────────────────────────\n",
       "                             2                                    2           \n",
       "\n",
       "                 ⎛lB⋅qA_dd   lB⋅qB_dd⎞                                        \n",
       "           lB⋅mB⋅⎜──────── + ────────⎟                                        \n",
       "⋅sin(qC)         ⎝   2          2    ⎠                                       ⎛\n",
       "──────── + ─────────────────────────── + lB⋅mC⋅(lB⋅qA_dd + lB⋅qB_dd) + lB⋅mC⋅⎜\n",
       "                        2                                                    ⎝\n",
       "\n",
       "                                                                              \n",
       "                                                                              \n",
       "lC⋅qA_dd   lC⋅qB_dd   lC⋅qC_dd⎞           lC⋅mC⋅(lB⋅qA_dd + lB⋅qB_dd)⋅cos(qC) \n",
       "──────── + ──────── + ────────⎟⋅cos(qC) + ─────────────────────────────────── \n",
       "   2          2          2    ⎠                            2                  \n",
       "\n",
       "        ⎛lC⋅qA_dd   lC⋅qB_dd   lC⋅qC_dd⎞                                      \n",
       "  lC⋅mC⋅⎜──────── + ──────── + ────────⎟      ⎛          2                    \n",
       "        ⎝   2          2          2    ⎠   lC⋅⎝lA⋅mC⋅qA_d ⋅sin(qB) + lA⋅mC⋅qA_\n",
       "+ ────────────────────────────────────── + ───────────────────────────────────\n",
       "                    2                                                2        \n",
       "\n",
       "                                                                              \n",
       "          ⎞              ⎛            2                              ⎞        \n",
       "dd⋅cos(qB)⎠⋅cos(qC)   lC⋅⎝- lA⋅mC⋅qA_d ⋅cos(qB) + lA⋅mC⋅qA_dd⋅sin(qB)⎠⋅sin(qC)\n",
       "─────────────────── - ────────────────────────────────────────────────────────\n",
       "                                                 2                            \n",
       "\n",
       "                                                                              \n",
       "                        2                                                 lC⋅m\n",
       "  lB⋅lC⋅mC⋅(qA_d + qB_d) ⋅sin(qC)   lC⋅mC⋅(lB⋅qA_dd + lB⋅qB_dd)⋅cos(qC)       \n",
       ", ─────────────────────────────── + ─────────────────────────────────── + ────\n",
       "                 2                                   2                        \n",
       "\n",
       "  ⎛lC⋅qA_dd   lC⋅qB_dd   lC⋅qC_dd⎞                                            \n",
       "C⋅⎜──────── + ──────── + ────────⎟      ⎛          2                          \n",
       "  ⎝   2          2          2    ⎠   lC⋅⎝lA⋅mC⋅qA_d ⋅sin(qB) + lA⋅mC⋅qA_dd⋅cos\n",
       "────────────────────────────────── + ─────────────────────────────────────────\n",
       "              2                                                2              \n",
       "\n",
       "                                                                        ⎤\n",
       "    ⎞              ⎛            2                              ⎞        ⎥\n",
       "(qB)⎠⋅cos(qC)   lC⋅⎝- lA⋅mC⋅qA_d ⋅cos(qB) + lA⋅mC⋅qA_dd⋅sin(qB)⎠⋅sin(qC)⎥\n",
       "───────────── - ────────────────────────────────────────────────────────⎥\n",
       "                                           2                            ⎦"
      ]
     },
     "execution_count": 23,
     "metadata": {},
     "output_type": "execute_result"
    }
   ],
   "source": [
    "ma"
   ]
  },
  {
   "cell_type": "markdown",
   "metadata": {},
   "source": [
    "## Solve for Acceleration\n",
    "\n",
    "The next line of code solves the system of equations F=ma plus any constraint equations that have been added above.  It returns one or two variables.  func1 is the function that computes the velocity and acceleration given a certain state, and lambda1(optional) supplies the function that computes the constraint forces as a function of the resulting states\n",
    "\n",
    "There are a few ways of solveing for a.  The below function inverts the mass matrix numerically every time step.  This can be slower because the matrix solution has to be solved for, but is sometimes more tractable than solving the highly nonlinear symbolic expressions that can be generated from the previous step.  The other options would be to use ```state_space_pre_invert```, which pre-inverts the equations symbolically before generating a numerical function, or ```state_space_post_invert2```, which adds Baumgarte's method for intermittent constraints."
   ]
  },
  {
   "cell_type": "code",
   "execution_count": 24,
   "metadata": {},
   "outputs": [
    {
     "name": "stderr",
     "output_type": "stream",
     "text": [
      "2021-07-21 13:37:39,728 - pynamics.system - INFO - solving a = f/m and creating function\n",
      "2021-07-21 13:37:40,011 - pynamics.system - INFO - substituting constrained in Ma-f.\n",
      "2021-07-21 13:37:40,244 - pynamics.system - INFO - done solving a = f/m and creating function\n",
      "2021-07-21 13:37:40,245 - pynamics.system - INFO - calculating function for lambdas\n"
     ]
    }
   ],
   "source": [
    "func1,lambda1 = system.state_space_post_invert(f,ma,return_lambda = True)"
   ]
  },
  {
   "cell_type": "markdown",
   "metadata": {},
   "source": [
    "## Integration Tolerance\n",
    "Specify the precision of the integration"
   ]
  },
  {
   "cell_type": "code",
   "execution_count": 25,
   "metadata": {},
   "outputs": [],
   "source": [
    "tol = 1e-5"
   ]
  },
  {
   "cell_type": "markdown",
   "metadata": {},
   "source": [
    "### Time \n",
    "Define variables for time that can be used throughout the script.  These get used to create the t array, a list of every time value that is solved for during integration"
   ]
  },
  {
   "cell_type": "code",
   "execution_count": 26,
   "metadata": {},
   "outputs": [],
   "source": [
    "tinitial = 0\n",
    "tfinal = 10\n",
    "fps = 30\n",
    "tstep = 1/fps\n",
    "t = numpy.r_[tinitial:tfinal:tstep]"
   ]
  },
  {
   "cell_type": "markdown",
   "metadata": {},
   "source": [
    "## Integrate\n",
    "\n",
    "The next line of code integrates the function calculated"
   ]
  },
  {
   "cell_type": "code",
   "execution_count": 27,
   "metadata": {},
   "outputs": [
    {
     "name": "stderr",
     "output_type": "stream",
     "text": [
      "2021-07-21 13:37:40,486 - pynamics.integration - INFO - beginning integration\n",
      "2021-07-21 13:37:40,488 - pynamics.system - INFO - integration at time 0000.00\n",
      "2021-07-21 13:37:40,825 - pynamics.integration - INFO - finished integration\n"
     ]
    }
   ],
   "source": [
    "states=pynamics.integration.integrate(func1,ini,t,rtol=tol,atol=tol, args=({'constants':system.constant_values},))"
   ]
  },
  {
   "cell_type": "markdown",
   "metadata": {},
   "source": [
    "## Outputs\n",
    "\n",
    "\n",
    "The next section simply calculates and plots a variety of data from the previous simulation\n",
    "### States"
   ]
  },
  {
   "cell_type": "code",
   "execution_count": 28,
   "metadata": {},
   "outputs": [
    {
     "data": {
      "text/plain": [
       "<matplotlib.legend.Legend at 0x24ba08f9bb0>"
      ]
     },
     "execution_count": 28,
     "metadata": {},
     "output_type": "execute_result"
    },
    {
     "data": {
      "image/png": "[encoded data removed]",
      "text/plain": [
       "<Figure size 432x288 with 1 Axes>"
      ]
     },
     "metadata": {
      "needs_background": "light"
     },
     "output_type": "display_data"
    }
   ],
   "source": [
    "plt.figure()\n",
    "artists = plt.plot(t,states[:,:3])\n",
    "plt.legend(artists,['qA','qB','qC'])"
   ]
  },
  {
   "cell_type": "markdown",
   "metadata": {},
   "source": [
    "### Energy"
   ]
  },
  {
   "cell_type": "code",
   "execution_count": 29,
   "metadata": {},
   "outputs": [
    {
     "name": "stderr",
     "output_type": "stream",
     "text": [
      "2021-07-21 13:37:41,269 - pynamics.output - INFO - calculating outputs\n",
      "2021-07-21 13:37:41,296 - pynamics.output - INFO - done calculating outputs\n"
     ]
    },
    {
     "data": {
      "image/png": "[encoded data removed]",
      "text/plain": [
       "<Figure size 432x288 with 1 Axes>"
      ]
     },
     "metadata": {
      "needs_background": "light"
     },
     "output_type": "display_data"
    }
   ],
   "source": [
    "KE = system.get_KE()\n",
    "PE = system.getPEGravity(pNA) - system.getPESprings()\n",
    "energy_output = Output([KE-PE],system)\n",
    "energy_output.calc(states,t)\n",
    "energy_output.plot_time()"
   ]
  },
  {
   "cell_type": "markdown",
   "metadata": {},
   "source": [
    "### Constraint Forces\n",
    "\n",
    "This line of code computes the constraint forces once the system's states have been solved for."
   ]
  },
  {
   "cell_type": "code",
   "execution_count": 30,
   "metadata": {},
   "outputs": [],
   "source": [
    "if use_constraints:\n",
    "    lambda2 = numpy.array([lambda1(item1,item2,system.constant_values) for item1,item2 in zip(t,states)])\n",
    "    plt.figure()\n",
    "    plt.plot(t, lambda2)"
   ]
  },
  {
   "cell_type": "markdown",
   "metadata": {},
   "source": [
    "### Motion"
   ]
  },
  {
   "cell_type": "code",
   "execution_count": 31,
   "metadata": {},
   "outputs": [
    {
     "name": "stderr",
     "output_type": "stream",
     "text": [
      "2021-07-21 13:37:41,597 - pynamics.output - INFO - calculating outputs\n",
      "2021-07-21 13:37:41,627 - pynamics.output - INFO - done calculating outputs\n"
     ]
    },
    {
     "data": {
      "text/plain": [
       "<AxesSubplot:>"
      ]
     },
     "execution_count": 31,
     "metadata": {},
     "output_type": "execute_result"
    },
    {
     "data": {
      "image/png": "[encoded data removed]",
      "text/plain": [
       "<Figure size 432x288 with 1 Axes>"
      ]
     },
     "metadata": {
      "needs_background": "light"
     },
     "output_type": "display_data"
    }
   ],
   "source": [
    "points = [pNA,pAB,pBC,pCtip]\n",
    "points_output = PointsOutput(points,system)\n",
    "y = points_output.calc(states,t)\n",
    "points_output.plot_time(20)"
   ]
  },
  {
   "cell_type": "markdown",
   "metadata": {},
   "source": [
    "#### Motion Animation\n",
    "in normal Python the next lines of code produce an animation using matplotlib"
   ]
  },
  {
   "cell_type": "raw",
   "metadata": {},
   "source": [
    "points_output.animate(fps = fps,movie_name = 'triple_pendulum.mp4',lw=2,marker='o',color=(1,0,0,1),linestyle='-')"
   ]
  },
  {
   "cell_type": "markdown",
   "metadata": {},
   "source": [
    "To plot the animation in jupyter you need a couple extra lines of code..."
   ]
  },
  {
   "cell_type": "raw",
   "metadata": {},
   "source": [
    "from matplotlib import animation, rc\n",
    "from IPython.display import HTML\n",
    "HTML(points_output.anim.to_html5_video())"
   ]
  }
 ],
 "metadata": {
  "kernelspec": {
   "display_name": "Python 3",
   "language": "python",
   "name": "python3"
  },
  "language_info": {
   "codemirror_mode": {
    "name": "ipython",
    "version": 3
   },
   "file_extension": ".py",
   "mimetype": "text/x-python",
   "name": "python",
   "nbconvert_exporter": "python",
   "pygments_lexer": "ipython3",
   "version": "3.8.10"
  }
 },
 "nbformat": 4,
 "nbformat_minor": 4
}
